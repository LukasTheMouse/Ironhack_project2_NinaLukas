{
 "cells": [
  {
   "cell_type": "code",
   "execution_count": 1,
   "metadata": {},
   "outputs": [],
   "source": [
    "import requests\n",
    "import pandas as pd\n",
    "import numpy as np\n",
    "from bs4 import BeautifulSoup\n",
    "from time import mktime\n",
    "import time\n",
    "import re\n",
    "from io import StringIO\n",
    "from datetime import datetime, timedelta\n",
    "import matplotlib.pyplot as plt"
   ]
  },
  {
   "cell_type": "code",
   "execution_count": 93,
   "metadata": {},
   "outputs": [],
   "source": [
    "def download_profile(tickers):\n",
    "    df = pd.DataFrame()\n",
    "    errors = []\n",
    "    for ticker in tickers:\n",
    "        \n",
    "        df = pd.concat([df,get_industry(ticker)])\n",
    "        print(ticker) \n",
    "    return df        "
   ]
  },
  {
   "cell_type": "code",
   "execution_count": 96,
   "metadata": {},
   "outputs": [],
   "source": [
    "def get_industry(ticker):\n",
    "    df = pd.DataFrame()\n",
    "    r = requests.get(url = 'https://finance.yahoo.com/quote/{0}/profile?p={0}'.format(ticker))\n",
    "    soup = BeautifulSoup(r.text, 'html.parser')\n",
    "\n",
    "    table = BeautifulSoup(str(soup.find_all('p', attrs={'class':'D(ib) Va(t)'})), 'html.parser')\n",
    "\n",
    "    span = table.find_all(\"span\")\n",
    "    try:\n",
    "        d = {'Company' : soup.find('h3', class_='Fz(m) Mb(10px)').text,\n",
    "            span[0].text : span[1].text,\n",
    "            span[2].text : span[3].text,\n",
    "            span[4].text : span[5].text,}\n",
    "        \n",
    "        df = df.append(d, ignore_index=True) \n",
    "        return df\n",
    "    except AttributeError:\n",
    "        print('Error: not found: {0}'.format(ticker))\n",
    "        pass    "
   ]
  },
  {
   "cell_type": "code",
   "execution_count": 80,
   "metadata": {},
   "outputs": [
    {
     "data": {
      "text/html": [
       "<div>\n",
       "<style scoped>\n",
       "    .dataframe tbody tr th:only-of-type {\n",
       "        vertical-align: middle;\n",
       "    }\n",
       "\n",
       "    .dataframe tbody tr th {\n",
       "        vertical-align: top;\n",
       "    }\n",
       "\n",
       "    .dataframe thead th {\n",
       "        text-align: right;\n",
       "    }\n",
       "</style>\n",
       "<table border=\"1\" class=\"dataframe\">\n",
       "  <thead>\n",
       "    <tr style=\"text-align: right;\">\n",
       "      <th></th>\n",
       "      <th>Company</th>\n",
       "      <th>Full Time Employees</th>\n",
       "      <th>Industry</th>\n",
       "      <th>Sector(s)</th>\n",
       "    </tr>\n",
       "  </thead>\n",
       "  <tbody>\n",
       "    <tr>\n",
       "      <th>0</th>\n",
       "      <td>Alfen N.V.</td>\n",
       "      <td>497</td>\n",
       "      <td>Electrical Equipment &amp; Parts</td>\n",
       "      <td>Industrials</td>\n",
       "    </tr>\n",
       "  </tbody>\n",
       "</table>\n",
       "</div>"
      ],
      "text/plain": [
       "      Company Full Time Employees                      Industry    Sector(s)\n",
       "0  Alfen N.V.                 497  Electrical Equipment & Parts  Industrials"
      ]
     },
     "execution_count": 80,
     "metadata": {},
     "output_type": "execute_result"
    }
   ],
   "source": [
    "df = pd.read_csv('Euronext_Equities_2020-08-04.csv')\n",
    "\n",
    "tickers = df['Yahoo ticker'].to_list()\n",
    "\n",
    "df = download_profile(tickers)\n",
    "\n",
    "df.to_csv('Companyprofiles.csv')"
   ]
  }
 ],
 "metadata": {
  "kernelspec": {
   "display_name": "Python 3",
   "language": "python",
   "name": "python3"
  },
  "language_info": {
   "codemirror_mode": {
    "name": "ipython",
    "version": 3
   },
   "file_extension": ".py",
   "mimetype": "text/x-python",
   "name": "python",
   "nbconvert_exporter": "python",
   "pygments_lexer": "ipython3",
   "version": "3.8.3"
  }
 },
 "nbformat": 4,
 "nbformat_minor": 4
}
