{
 "cells": [
  {
   "cell_type": "code",
   "execution_count": 2,
   "metadata": {},
   "outputs": [],
   "source": [
    "import pandas as pd"
   ]
  },
  {
   "cell_type": "code",
   "execution_count": 24,
   "metadata": {
    "scrolled": true
   },
   "outputs": [
    {
     "data": {
      "text/html": [
       "<div>\n",
       "<style scoped>\n",
       "    .dataframe tbody tr th:only-of-type {\n",
       "        vertical-align: middle;\n",
       "    }\n",
       "\n",
       "    .dataframe tbody tr th {\n",
       "        vertical-align: top;\n",
       "    }\n",
       "\n",
       "    .dataframe thead th {\n",
       "        text-align: right;\n",
       "    }\n",
       "</style>\n",
       "<table border=\"1\" class=\"dataframe\">\n",
       "  <thead>\n",
       "    <tr style=\"text-align: right;\">\n",
       "      <th></th>\n",
       "      <th>Unnamed: 0</th>\n",
       "      <th>Adj Close**</th>\n",
       "      <th>Close</th>\n",
       "      <th>High</th>\n",
       "      <th>Low</th>\n",
       "      <th>Open</th>\n",
       "      <th>Ticker</th>\n",
       "      <th>time</th>\n",
       "    </tr>\n",
       "  </thead>\n",
       "  <tbody>\n",
       "    <tr>\n",
       "      <th>0</th>\n",
       "      <td>0</td>\n",
       "      <td>24.13</td>\n",
       "      <td>25.70</td>\n",
       "      <td>26.48</td>\n",
       "      <td>20.53</td>\n",
       "      <td>20.92</td>\n",
       "      <td>AALB.AS</td>\n",
       "      <td>20200401</td>\n",
       "    </tr>\n",
       "    <tr>\n",
       "      <th>1</th>\n",
       "      <td>1</td>\n",
       "      <td>37.57</td>\n",
       "      <td>40.01</td>\n",
       "      <td>40.92</td>\n",
       "      <td>37.08</td>\n",
       "      <td>38.59</td>\n",
       "      <td>AALB.AS</td>\n",
       "      <td>20191201</td>\n",
       "    </tr>\n",
       "    <tr>\n",
       "      <th>2</th>\n",
       "      <td>2</td>\n",
       "      <td>31.69</td>\n",
       "      <td>33.75</td>\n",
       "      <td>43.11</td>\n",
       "      <td>32.96</td>\n",
       "      <td>39.57</td>\n",
       "      <td>AALB.AS</td>\n",
       "      <td>20200201</td>\n",
       "    </tr>\n",
       "    <tr>\n",
       "      <th>3</th>\n",
       "      <td>3</td>\n",
       "      <td>37.11</td>\n",
       "      <td>39.52</td>\n",
       "      <td>41.06</td>\n",
       "      <td>39.13</td>\n",
       "      <td>40.01</td>\n",
       "      <td>AALB.AS</td>\n",
       "      <td>20200101</td>\n",
       "    </tr>\n",
       "    <tr>\n",
       "      <th>4</th>\n",
       "      <td>4</td>\n",
       "      <td>28.37</td>\n",
       "      <td>29.19</td>\n",
       "      <td>30.89</td>\n",
       "      <td>24.75</td>\n",
       "      <td>25.00</td>\n",
       "      <td>AALB.AS</td>\n",
       "      <td>20200601</td>\n",
       "    </tr>\n",
       "  </tbody>\n",
       "</table>\n",
       "</div>"
      ],
      "text/plain": [
       "   Unnamed: 0  Adj Close**  Close   High    Low   Open   Ticker      time\n",
       "0           0        24.13  25.70  26.48  20.53  20.92  AALB.AS  20200401\n",
       "1           1        37.57  40.01  40.92  37.08  38.59  AALB.AS  20191201\n",
       "2           2        31.69  33.75  43.11  32.96  39.57  AALB.AS  20200201\n",
       "3           3        37.11  39.52  41.06  39.13  40.01  AALB.AS  20200101\n",
       "4           4        28.37  29.19  30.89  24.75  25.00  AALB.AS  20200601"
      ]
     },
     "execution_count": 24,
     "metadata": {},
     "output_type": "execute_result"
    }
   ],
   "source": [
    "stock_data = pd.read_csv('/Users/ninahew/Ironhack_project2_NinaLukas/Stockreturn.csv')\n",
    "return_data = pd.read_csv('/Users/ninahew/Ironhack_project2_NinaLukas/Stockearnings.csv')\n",
    "stock_data.head(5)"
   ]
  },
  {
   "cell_type": "code",
   "execution_count": 25,
   "metadata": {},
   "outputs": [
    {
     "data": {
      "text/plain": [
       "pandas.core.frame.DataFrame"
      ]
     },
     "execution_count": 25,
     "metadata": {},
     "output_type": "execute_result"
    }
   ],
   "source": [
    "type(stock_data)"
   ]
  },
  {
   "cell_type": "code",
   "execution_count": 27,
   "metadata": {},
   "outputs": [
    {
     "data": {
      "text/html": [
       "<div>\n",
       "<style scoped>\n",
       "    .dataframe tbody tr th:only-of-type {\n",
       "        vertical-align: middle;\n",
       "    }\n",
       "\n",
       "    .dataframe tbody tr th {\n",
       "        vertical-align: top;\n",
       "    }\n",
       "\n",
       "    .dataframe thead th {\n",
       "        text-align: right;\n",
       "    }\n",
       "</style>\n",
       "<table border=\"1\" class=\"dataframe\">\n",
       "  <thead>\n",
       "    <tr style=\"text-align: right;\">\n",
       "      <th></th>\n",
       "      <th>Ticker</th>\n",
       "      <th>time</th>\n",
       "      <th>Open</th>\n",
       "      <th>High</th>\n",
       "      <th>Low</th>\n",
       "      <th>Close</th>\n",
       "    </tr>\n",
       "  </thead>\n",
       "  <tbody>\n",
       "    <tr>\n",
       "      <th>0</th>\n",
       "      <td>AALB.AS</td>\n",
       "      <td>20200401</td>\n",
       "      <td>20.92</td>\n",
       "      <td>26.48</td>\n",
       "      <td>20.53</td>\n",
       "      <td>25.70</td>\n",
       "    </tr>\n",
       "    <tr>\n",
       "      <th>1</th>\n",
       "      <td>AALB.AS</td>\n",
       "      <td>20191201</td>\n",
       "      <td>38.59</td>\n",
       "      <td>40.92</td>\n",
       "      <td>37.08</td>\n",
       "      <td>40.01</td>\n",
       "    </tr>\n",
       "    <tr>\n",
       "      <th>2</th>\n",
       "      <td>AALB.AS</td>\n",
       "      <td>20200201</td>\n",
       "      <td>39.57</td>\n",
       "      <td>43.11</td>\n",
       "      <td>32.96</td>\n",
       "      <td>33.75</td>\n",
       "    </tr>\n",
       "    <tr>\n",
       "      <th>3</th>\n",
       "      <td>AALB.AS</td>\n",
       "      <td>20200101</td>\n",
       "      <td>40.01</td>\n",
       "      <td>41.06</td>\n",
       "      <td>39.13</td>\n",
       "      <td>39.52</td>\n",
       "    </tr>\n",
       "    <tr>\n",
       "      <th>4</th>\n",
       "      <td>AALB.AS</td>\n",
       "      <td>20200601</td>\n",
       "      <td>25.00</td>\n",
       "      <td>30.89</td>\n",
       "      <td>24.75</td>\n",
       "      <td>29.19</td>\n",
       "    </tr>\n",
       "    <tr>\n",
       "      <th>5</th>\n",
       "      <td>AALB.AS</td>\n",
       "      <td>20200301</td>\n",
       "      <td>34.51</td>\n",
       "      <td>34.68</td>\n",
       "      <td>16.16</td>\n",
       "      <td>21.64</td>\n",
       "    </tr>\n",
       "    <tr>\n",
       "      <th>6</th>\n",
       "      <td>AALB.AS</td>\n",
       "      <td>20200501</td>\n",
       "      <td>24.74</td>\n",
       "      <td>25.60</td>\n",
       "      <td>21.15</td>\n",
       "      <td>24.65</td>\n",
       "    </tr>\n",
       "    <tr>\n",
       "      <th>7</th>\n",
       "      <td>AALB.AS</td>\n",
       "      <td>20191101</td>\n",
       "      <td>36.15</td>\n",
       "      <td>39.80</td>\n",
       "      <td>36.01</td>\n",
       "      <td>38.45</td>\n",
       "    </tr>\n",
       "    <tr>\n",
       "      <th>8</th>\n",
       "      <td>AALB.AS</td>\n",
       "      <td>20191001</td>\n",
       "      <td>36.40</td>\n",
       "      <td>37.96</td>\n",
       "      <td>34.05</td>\n",
       "      <td>36.06</td>\n",
       "    </tr>\n",
       "    <tr>\n",
       "      <th>9</th>\n",
       "      <td>ABN.AS</td>\n",
       "      <td>20200401</td>\n",
       "      <td>7.24</td>\n",
       "      <td>8.30</td>\n",
       "      <td>6.23</td>\n",
       "      <td>7.00</td>\n",
       "    </tr>\n",
       "  </tbody>\n",
       "</table>\n",
       "</div>"
      ],
      "text/plain": [
       "    Ticker      time   Open   High    Low  Close\n",
       "0  AALB.AS  20200401  20.92  26.48  20.53  25.70\n",
       "1  AALB.AS  20191201  38.59  40.92  37.08  40.01\n",
       "2  AALB.AS  20200201  39.57  43.11  32.96  33.75\n",
       "3  AALB.AS  20200101  40.01  41.06  39.13  39.52\n",
       "4  AALB.AS  20200601  25.00  30.89  24.75  29.19\n",
       "5  AALB.AS  20200301  34.51  34.68  16.16  21.64\n",
       "6  AALB.AS  20200501  24.74  25.60  21.15  24.65\n",
       "7  AALB.AS  20191101  36.15  39.80  36.01  38.45\n",
       "8  AALB.AS  20191001  36.40  37.96  34.05  36.06\n",
       "9   ABN.AS  20200401   7.24   8.30   6.23   7.00"
      ]
     },
     "execution_count": 27,
     "metadata": {},
     "output_type": "execute_result"
    }
   ],
   "source": [
    "columns = ['Ticker', 'time', 'Open', 'High', 'Low','Close']\n",
    "stock_data = stock_data[columns]\n",
    "#stock_data.rename(columns = {'Ticker' : 'ticker'}, {'Open' : 'open'}, {'High' : 'high'}, {'Low' : 'low'}, {'Close' : 'close'})\n",
    "\n",
    "stock_data.head(10)"
   ]
  },
  {
   "cell_type": "code",
   "execution_count": 30,
   "metadata": {},
   "outputs": [
    {
     "ename": "TypeError",
     "evalue": "merge() missing 1 required positional argument: 'right'",
     "output_type": "error",
     "traceback": [
      "\u001b[0;31m---------------------------------------------------------------------------\u001b[0m",
      "\u001b[0;31mTypeError\u001b[0m                                 Traceback (most recent call last)",
      "\u001b[0;32m<ipython-input-30-eb4975778b1e>\u001b[0m in \u001b[0;36m<module>\u001b[0;34m()\u001b[0m\n\u001b[0;32m----> 1\u001b[0;31m \u001b[0mnew_table\u001b[0m \u001b[0;34m=\u001b[0m \u001b[0mpd\u001b[0m\u001b[0;34m.\u001b[0m\u001b[0mmerge\u001b[0m\u001b[0;34m(\u001b[0m\u001b[0mreturn_data\u001b[0m\u001b[0;34m,\u001b[0m \u001b[0mon\u001b[0m\u001b[0;34m=\u001b[0m\u001b[0;34m'Ticker'\u001b[0m\u001b[0;34m,\u001b[0m \u001b[0mhow\u001b[0m\u001b[0;34m=\u001b[0m\u001b[0;34m'right'\u001b[0m\u001b[0;34m,\u001b[0m \u001b[0mindicator\u001b[0m\u001b[0;34m=\u001b[0m\u001b[0;32mTrue\u001b[0m\u001b[0;34m)\u001b[0m\u001b[0;34m\u001b[0m\u001b[0;34m\u001b[0m\u001b[0m\n\u001b[0m\u001b[1;32m      2\u001b[0m \u001b[0mnew_table\u001b[0m\u001b[0;34m.\u001b[0m\u001b[0mhead\u001b[0m\u001b[0;34m(\u001b[0m\u001b[0;36m5\u001b[0m\u001b[0;34m)\u001b[0m\u001b[0;34m\u001b[0m\u001b[0;34m\u001b[0m\u001b[0m\n",
      "\u001b[0;31mTypeError\u001b[0m: merge() missing 1 required positional argument: 'right'"
     ]
    }
   ],
   "source": [
    "new_table = pd.merge(return_data, on='Ticker', how='left', indicator=True)\n",
    "new_table.head(5)"
   ]
  },
  {
   "cell_type": "code",
   "execution_count": null,
   "metadata": {},
   "outputs": [],
   "source": []
  }
 ],
 "metadata": {
  "kernelspec": {
   "display_name": "Python 3",
   "language": "python",
   "name": "python3"
  },
  "language_info": {
   "codemirror_mode": {
    "name": "ipython",
    "version": 3
   },
   "file_extension": ".py",
   "mimetype": "text/x-python",
   "name": "python",
   "nbconvert_exporter": "python",
   "pygments_lexer": "ipython3",
   "version": "3.6.8"
  }
 },
 "nbformat": 4,
 "nbformat_minor": 2
}
